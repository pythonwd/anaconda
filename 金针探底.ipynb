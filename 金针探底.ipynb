{
 "cells": [
  {
   "cell_type": "code",
   "execution_count": 1,
   "metadata": {},
   "outputs": [
    {
     "name": "stdout",
     "output_type": "stream",
     "text": [
      "[Getting data:]############################################################        code  name  changepercent  trade   open   high    low  settlement  \\\n",
      "417   603032  德新交运          6.722  31.91  32.00  32.89  29.00       29.90   \n",
      "862   600695  绿庭投资          6.148   5.18   4.98   5.29   4.70        4.88   \n",
      "1600  300581  晨曦航空          1.188  12.78  13.10  13.17  12.10       12.63   \n",
      "2262  002843  泰嘉股份          8.764  14.52  14.50  14.69  13.70       13.35   \n",
      "3493  000150  宜华健康          6.236  14.48  14.99  14.99  13.08       13.63   \n",
      "\n",
      "          volume  turnoverratio       amount      per      pb         mktcap  \\\n",
      "417   17434229.0       22.23527  549325734.0  159.550  11.839  510585.528000   \n",
      "862   60818745.0       16.59596  304349746.0   77.313   5.573  368366.427800   \n",
      "1600   1630700.0        2.73332   21016787.0   23.812   3.704  219509.280000   \n",
      "2262  12433810.0       14.80215  180790258.0   39.243   3.173  205741.140000   \n",
      "3493  13586725.0        2.36001  193835880.0   37.195   3.723  907790.045496   \n",
      "\n",
      "                nmc  \n",
      "417   250199.928000  \n",
      "862   189829.984736  \n",
      "1600   76245.480000  \n",
      "2262  121968.000000  \n",
      "3493  833624.193568  \n"
     ]
    }
   ],
   "source": [
    "import tushare as ts\n",
    "import pandas as pd\n",
    "\n",
    "df = ts.get_today_all()\n",
    "df2 = df.loc[(df[\"high\"]>df[\"low\"]*1.07)  & (df[\"open\"]>df[\"low\"]*1.05) & (df[\"trade\"]>df[\"low\"]*1.05)]\n",
    "\n",
    "'''\n",
    "#df.columns = [ \"股票代码\", \"name:名称\", \"changepercent:涨跌幅\",\n",
    "    \"trade:现价\",\n",
    "    \"open:开盘价\",\n",
    "    \"high:最高价\",\n",
    "    \"low:最低价\",\n",
    "    \"settlement:昨日收盘价\",\n",
    "    \"volume:成交量\",\n",
    "    \"turnoverratio:换手率\",\n",
    "    \"amount:成交量\",\n",
    "    \"per:市盈率\",\n",
    "    \"pb:市净率\",\n",
    "    \"mktcap:总市值\",\n",
    "    \"nmc:流通市值\"]\n",
    "'''\n",
    "#df.insert(0,\"日期\",today) #插入列\n",
    "\n",
    "print(df2)"
   ]
  },
  {
   "cell_type": "code",
   "execution_count": null,
   "metadata": {},
   "outputs": [],
   "source": []
  },
  {
   "cell_type": "code",
   "execution_count": null,
   "metadata": {},
   "outputs": [],
   "source": []
  },
  {
   "cell_type": "code",
   "execution_count": null,
   "metadata": {},
   "outputs": [],
   "source": []
  }
 ],
 "metadata": {
  "kernelspec": {
   "display_name": "Python 3",
   "language": "python",
   "name": "python3"
  },
  "language_info": {
   "codemirror_mode": {
    "name": "ipython",
    "version": 3
   },
   "file_extension": ".py",
   "mimetype": "text/x-python",
   "name": "python",
   "nbconvert_exporter": "python",
   "pygments_lexer": "ipython3",
   "version": "3.6.5"
  }
 },
 "nbformat": 4,
 "nbformat_minor": 2
}
