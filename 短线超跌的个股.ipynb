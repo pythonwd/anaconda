{
 "cells": [
  {
   "cell_type": "code",
   "execution_count": 1,
   "metadata": {},
   "outputs": [
    {
     "name": "stdout",
     "output_type": "stream",
     "text": [
      "[Getting data:]############################################################[Getting data:]############################################################600131\n"
     ]
    }
   ],
   "source": [
    "import pandas as pd\n",
    "import tushare as ts\n",
    "import datetime \n",
    "dfyl = ts.get_report_data(2018,3)#考察盈利状况\n",
    "df1 = dfyl.query(\"roe>5.00 and profits_yoy>2.00\")#筛选增长性好的\n",
    "dfdq = ts.get_today_all()#获取当前行情\n",
    "df2 = dfdq.query(\"changepercent<-2.000\")#设定当前价格的选股标准\n",
    "df3 = pd.merge(df1,df2,on=\"code\",how=\"inner\")#再次筛选\n",
    "code = df3[\"code\"]\n",
    "today = datetime.date.today()\n",
    "oneday = datetime.timedelta(days=20)\n",
    "beging = str(today-oneday)\n",
    "for i in code:  #逐个下载历史行情，从技术形态层面分析\n",
    "    try:\n",
    "   \n",
    "        df = ts.get_hist_data('%06s' % i,start='%s' % beging)   #%06d,表示数字是6位数，如不够就自动加0到前面\n",
    "   \n",
    "    \n",
    "        if df.iloc[0,2] < df[\"close\"].max()*0.80 and df.iloc[0,2] > df[\"close\"].mean()*0.5:#当日收盘价小于历史最高价10%\n",
    "    \n",
    "            print(i)\n",
    "            \n",
    "        else:\n",
    "            pass\n",
    "    except:\n",
    "        pass\n"
   ]
  },
  {
   "cell_type": "code",
   "execution_count": null,
   "metadata": {},
   "outputs": [],
   "source": []
  }
 ],
 "metadata": {
  "kernelspec": {
   "display_name": "Python 3",
   "language": "python",
   "name": "python3"
  },
  "language_info": {
   "codemirror_mode": {
    "name": "ipython",
    "version": 3
   },
   "file_extension": ".py",
   "mimetype": "text/x-python",
   "name": "python",
   "nbconvert_exporter": "python",
   "pygments_lexer": "ipython3",
   "version": "3.6.5"
  }
 },
 "nbformat": 4,
 "nbformat_minor": 2
}
