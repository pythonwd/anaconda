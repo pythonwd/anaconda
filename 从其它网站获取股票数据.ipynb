{
 "cells": [
  {
   "cell_type": "code",
   "execution_count": 2,
   "metadata": {},
   "outputs": [
    {
     "name": "stdout",
     "output_type": "stream",
     "text": [
      "['ffz000858\"z000858', '7345.33', '2839.76', '4505.57', '6.76', '59330.48', '51559.07', '7771.41', '14.29', '1261670000.00', '71612.93', '90361.44', '五粮液', '20181026', '20181025^7880.69^12043.99', '20181024^13422.50^25834.03', '20181023^12199.62^35585.20', '20181022^30764.79^14058.46', '1872300.00', '20358200.00', '20181026150006\"\\n']\n",
      "                  0        1        2        3     4         5         6   \\\n",
      "0  ffz000858\"z000858  7345.33  2839.76  4505.57  6.76  59330.48  51559.07   \n",
      "\n",
      "        7      8              9         ...                11   12        13  \\\n",
      "0  7771.41  14.29  1261670000.00        ...          90361.44  五粮液  20181026   \n",
      "\n",
      "                          14                          15  \\\n",
      "0  20181025^7880.69^12043.99  20181024^13422.50^25834.03   \n",
      "\n",
      "                           16                          17          18  \\\n",
      "0  20181023^12199.62^35585.20  20181022^30764.79^14058.46  1872300.00   \n",
      "\n",
      "            19                 20  \n",
      "0  20358200.00  20181026150006\"\\n  \n",
      "\n",
      "[1 rows x 21 columns]\n"
     ]
    }
   ],
   "source": [
    "#coding:utf-8:\n",
    "import pandas as pd\n",
    "import requests\n",
    "import re\n",
    "content=requests.get(' http://qt.gtimg.cn/q=ff_sz000858').text#利用request模块访问网站\n",
    "content = content.replace(\"~\",\",\")\n",
    "content=(re.sub(\"[\"\";va=hq_str\\']\",'', content))\n",
    "ls = content.split(\",\")\n",
    "\n",
    "print(ls)\n",
    "\n",
    "df = pd.DataFrame(ls)#,columns=[\"代码\",\"主力流入\",\"主力流出\",\"主力净流入\",\"主力净流入/资金流入流出总和\",\"散户流入\"\n",
    "\n",
    "#\"散户流出\",\"散户净流入\",\"散户净流入/资金流入流出总和\",\"资金流入流出总和\",\"未知\",\"未知\",\"名字\",\" 日期\"])\n",
    "df=df.T\n",
    "print(df)\n",
    "df.to_excel(\"/home/wangd/腾讯股票数据.xlsx\")\n"
   ]
  },
  {
   "cell_type": "code",
   "execution_count": null,
   "metadata": {},
   "outputs": [],
   "source": []
  },
  {
   "cell_type": "code",
   "execution_count": null,
   "metadata": {},
   "outputs": [],
   "source": []
  }
 ],
 "metadata": {
  "kernelspec": {
   "display_name": "Python 3",
   "language": "python",
   "name": "python3"
  },
  "language_info": {
   "codemirror_mode": {
    "name": "ipython",
    "version": 3
   },
   "file_extension": ".py",
   "mimetype": "text/x-python",
   "name": "python",
   "nbconvert_exporter": "python",
   "pygments_lexer": "ipython3",
   "version": "3.6.5"
  }
 },
 "nbformat": 4,
 "nbformat_minor": 2
}
