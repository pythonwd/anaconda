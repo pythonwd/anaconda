{
 "cells": [
  {
   "cell_type": "code",
   "execution_count": 3,
   "metadata": {},
   "outputs": [
    {
     "name": "stdout",
     "output_type": "stream",
     "text": [
      "-128191\n"
     ]
    }
   ],
   "source": [
    "import pandas as pd\n",
    "import tushare as ts\n",
    "df = ts.get_sina_dd('002464', date='2018-11-05',vol=400)\n",
    "x = int(500/df.iloc[0,3])\n",
    "df = ts.get_sina_dd('002464', date='2018-11-05',vol=x)\n",
    "df2 = df[df[\"type\"].isin([\"卖盘\"])]\n",
    "df1 = df[df[\"type\"].isin([\"买盘\"])]\n",
    "df3 = df1[\"volume\"].sum() - df2[\"volume\"].sum()\n",
    "\n",
    "print(df3)"
   ]
  },
  {
   "cell_type": "code",
   "execution_count": null,
   "metadata": {},
   "outputs": [],
   "source": []
  },
  {
   "cell_type": "code",
   "execution_count": null,
   "metadata": {},
   "outputs": [],
   "source": []
  }
 ],
 "metadata": {
  "kernelspec": {
   "display_name": "Python 3",
   "language": "python",
   "name": "python3"
  },
  "language_info": {
   "codemirror_mode": {
    "name": "ipython",
    "version": 3
   },
   "file_extension": ".py",
   "mimetype": "text/x-python",
   "name": "python",
   "nbconvert_exporter": "python",
   "pygments_lexer": "ipython3",
   "version": "3.6.5"
  }
 },
 "nbformat": 4,
 "nbformat_minor": 2
}
