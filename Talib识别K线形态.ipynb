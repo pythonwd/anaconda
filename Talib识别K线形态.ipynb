{
 "cells": [
  {
   "cell_type": "code",
   "execution_count": 39,
   "metadata": {},
   "outputs": [
    {
     "name": "stdout",
     "output_type": "stream",
     "text": [
      "<urlopen error [Errno -3] Temporary failure in name resolution>\n",
      "Empty DataFrame\n",
      "Columns: [yes]\n",
      "Index: []\n",
      "Empty DataFrame\n",
      "Columns: [yes]\n",
      "Index: []\n",
      "            yes\n",
      "date           \n",
      "2017-11-09 -100\n",
      "2017-08-21  100\n",
      "2017-05-23 -100\n"
     ]
    }
   ],
   "source": [
    "import tushare as ts\n",
    "import pandas as pd\n",
    "import talib\n",
    "\n",
    "\n",
    "STOCK = [\"300019\", \"002619\", \"600366\"] ;      ##宁波韵升\n",
    "for i in STOCK:\n",
    "    df = ts.get_hist_data(i)    \n",
    "    ope = df[\"open\"]\n",
    "    high = df[\"high\"]\n",
    "    low = df[\"low\"]\n",
    "    close = df[\"close\"]\n",
    "    df2 = talib.CDLGAPSIDESIDEWHITE  (ope,high,low,close)\n",
    "    df2 = pd.DataFrame(df2)\n",
    "    df2.columns=[\"yes\"]\n",
    "    df2 = df2.loc[(df2[\"yes\"] == 100) | (df2[\"yes\"] == -100)]\n",
    "    print(df2)\n"
   ]
  },
  {
   "cell_type": "code",
   "execution_count": null,
   "metadata": {},
   "outputs": [],
   "source": []
  },
  {
   "cell_type": "code",
   "execution_count": null,
   "metadata": {},
   "outputs": [],
   "source": []
  }
 ],
 "metadata": {
  "kernelspec": {
   "display_name": "Python 3",
   "language": "python",
   "name": "python3"
  },
  "language_info": {
   "codemirror_mode": {
    "name": "ipython",
    "version": 3
   },
   "file_extension": ".py",
   "mimetype": "text/x-python",
   "name": "python",
   "nbconvert_exporter": "python",
   "pygments_lexer": "ipython3",
   "version": "3.6.5"
  }
 },
 "nbformat": 4,
 "nbformat_minor": 2
}
