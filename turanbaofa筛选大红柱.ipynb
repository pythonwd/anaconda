{
 "cells": [
  {
   "cell_type": "code",
   "execution_count": 12,
   "metadata": {},
   "outputs": [
    {
     "name": "stdout",
     "output_type": "stream",
     "text": [
      "[Getting data:]############################################################600483\n",
      "600052\n",
      "600021\n",
      "002286\n",
      "002081\n",
      "000565\n"
     ]
    }
   ],
   "source": [
    "import tushare as ts\n",
    "import pandas as pd\n",
    "import datetime\n",
    "df = ts.get_today_all()\n",
    "df2 = df.query(\"trade > open*1.03 and trade > high*0.97 and changepercent < 8.000\")\n",
    "df2 = df2.loc[~df2[\"changepercent\"].isin([\"0.00\"])] #去除停牌的股票\n",
    "\n",
    "code = df2[\"code\"]\n",
    "today = datetime.date.today()\n",
    "oneday = datetime.timedelta(days=20)\n",
    "beging = str(today-oneday)\n",
    "for i in code:  #逐个下载历史行情，从技术形态层面分析\n",
    "    try:\n",
    "   \n",
    "        df = ts.get_hist_data('%06s' % i,start='%s' % beging)   #%06d,表示数字是6位数，如不够就自动加0到前面\n",
    "   \n",
    "    \n",
    "        if df.iloc[0,2] < df[\"close\"].min()*1.05 and df.iloc[0,4] > df.iloc[0,11]*1.3:#当日收盘价小于历史最低价价115%\n",
    "            \n",
    "    \n",
    "            print(i)\n",
    "            \n",
    "           \n",
    "            \n",
    "        else:\n",
    "            pass\n",
    "    except:\n",
    "        pass\n"
   ]
  },
  {
   "cell_type": "code",
   "execution_count": null,
   "metadata": {},
   "outputs": [],
   "source": []
  },
  {
   "cell_type": "code",
   "execution_count": null,
   "metadata": {},
   "outputs": [],
   "source": []
  }
 ],
 "metadata": {
  "kernelspec": {
   "display_name": "Python 3",
   "language": "python",
   "name": "python3"
  },
  "language_info": {
   "codemirror_mode": {
    "name": "ipython",
    "version": 3
   },
   "file_extension": ".py",
   "mimetype": "text/x-python",
   "name": "python",
   "nbconvert_exporter": "python",
   "pygments_lexer": "ipython3",
   "version": "3.6.5"
  }
 },
 "nbformat": 4,
 "nbformat_minor": 2
}
