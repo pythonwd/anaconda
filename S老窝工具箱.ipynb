{
 "cells": [
  {
   "cell_type": "code",
   "execution_count": 77,
   "metadata": {},
   "outputs": [
    {
     "name": "stdout",
     "output_type": "stream",
     "text": [
      "         code    ZXJ    ZF    HSL    LB     DDX    DDY     DDZ       CJL  \\\n",
      "1    603196.0  10.46  2.75  27.54  1.11  14.981  3.300  42.503  18805.15   \n",
      "5    603238.0  17.45 -1.02   1.55  0.26   4.593 -0.115  -8.966    814.47   \n",
      "11   603616.0  12.84 -0.08   4.26  0.96   3.316  0.396  28.677  16071.09   \n",
      "14   603060.0  19.74 -1.10   1.34  0.46   3.050 -0.269 -21.195   1697.85   \n",
      "32   603030.0   5.76  0.88   0.60  0.82   2.020  0.090  23.687   1832.41   \n",
      "39   603730.0  21.60  0.14   0.82  0.52   1.629 -0.189  -8.100   1442.83   \n",
      "80   601177.0   8.67 -1.14   0.35  0.64   1.009  0.054  20.030   1203.18   \n",
      "88   600748.0   5.52  0.00   0.76  0.91   0.970  0.210  50.778   5866.36   \n",
      "94   603222.0  13.14  2.02   0.97  0.84   0.930  0.218  63.612   4060.17   \n",
      "173  601992.0   3.85 -0.52   0.99  1.07   0.606  0.211  66.091  31976.46   \n",
      "188  600993.0  13.54 -3.01   0.66  0.63   0.565  0.194  25.719   3844.71   \n",
      "199  601886.0   7.34  1.38   0.42  0.69   0.545 -0.133 -14.194   3535.04   \n",
      "213  603096.0  57.68  2.09   0.54  0.59   0.514 -0.022  13.849   1676.81   \n",
      "\n",
      "         BBD    ...      mr2   mc2  TCL1  TCL5  TCL10  TCL20    ZDL1    ZDL5  \\\n",
      "1    4362.80    ...     15.1  28.2  23.2  10.7    9.4    7.8  18.808   2.281   \n",
      "5     -43.17    ...     46.5  46.6  -5.3  10.5   11.0    7.5 -10.638   5.613   \n",
      "11   2828.51    ...     22.8  31.2  17.6  12.8    9.5    3.1 -19.016   3.822   \n",
      "14   -280.15    ...     66.0  47.9 -16.5  11.0   12.5    7.8   0.023  11.124   \n",
      "32     87.96    ...     20.5  31.2   4.8  13.6   18.8   11.3  16.611  -3.001   \n",
      "39    -10.10    ...     52.9  43.2  -0.7  11.2   11.3    8.5  13.128  -2.451   \n",
      "80    154.01    ...     32.1  30.6  12.8  13.3   16.5   14.3  -9.119  -8.674   \n",
      "88    703.96    ...     26.9  36.0  12.0  20.1   16.2    9.1  -2.880   2.280   \n",
      "94    885.12    ...     14.8  28.3  21.8  21.0   10.7    7.7  12.488   0.657   \n",
      "173  5595.88    ...     15.4  25.5  17.5  13.8    8.6    4.1 -19.807   2.403   \n",
      "188   430.61    ...     36.6  51.5  11.2  12.5    6.9    4.9 -34.977  -2.190   \n",
      "199   127.26    ...     45.2  37.7   3.6  11.8   10.7    4.3  37.124  15.510   \n",
      "213   249.84    ...     53.7  47.7  14.9  12.9    6.9    2.7  26.146 -19.591   \n",
      "\n",
      "      ZDL10       LTP  \n",
      "1     3.327    6540.0  \n",
      "5    10.217    3000.0  \n",
      "11   -2.199   29336.0  \n",
      "14   12.484    6382.8  \n",
      "32  -11.269   53398.0  \n",
      "39    0.574    8116.6  \n",
      "80   -1.322   40006.0  \n",
      "88   -2.650  140838.2  \n",
      "94   10.425   32000.0  \n",
      "173  -2.219  833415.8  \n",
      "188  -6.883   43023.6  \n",
      "199   1.308  115405.0  \n",
      "213 -12.600    5391.8  \n",
      "\n",
      "[13 rows x 29 columns]\n"
     ]
    }
   ],
   "source": [
    "from requests_html import HTMLSession\n",
    "import re\n",
    "import pandas as pd\n",
    "import time\n",
    "import numpy as np\n",
    "session = HTMLSession()\n",
    "urls = [\"http://www.ddxzx.com/ygetnewallddxpm.php?zf=0&ddx=3&ddy=0&page={}&pagenum=20&orderby=5&isdesc=1\".format(str(i)) for i in range(1,30)]\n",
    "mylist = [] #前面通过for循环实现翻页\n",
    "try:\n",
    "    for url in urls: \n",
    "        r=session.get(url) #挨个HTML访问\n",
    "        r = r.html.text\n",
    "        r = str(r)\n",
    "        r = re.findall(r'[036]\\d{5}|-?\\d+\\.\\d+',r)\n",
    "        mylist=mylist+r #列表循环增加\n",
    "        mylist2 = mylist\n",
    "        time.sleep(3)\n",
    "\n",
    "except:\n",
    "    pass\n",
    "r2 = [mylist2[i:i+29] for i in range(0,len(mylist2),29)]\n",
    "df = pd.DataFrame(r2,columns=[\"code\",\"ZXJ\",\"ZF\",\"HSL\",\"LB\",\"DDX\",\"DDY\",\"DDZ\",\"CJL\",\"BBD\",\"DSB\",\"TDC\",\n",
    "\"DDC\",\"ZDC\",\"XDC\",\"MR\",\"MC\",\"mr\",\"mc\",\"mr2\",\"mc2\",\"TCL1\",\"TCL5\",\"TCL10\",\"TCL20\",\"ZDL1\",\"ZDL5\",\"ZDL10\",\"LTP\"],dtype=\"float\")\n",
    "\n",
    "df.to_excel(\"/home/wangd/DDXqb.xlsx\")\n",
    "#df2 = pd.read_excel(\"/home/wangd/DDXqb.xlsx\")#先存入再读出来是因为数值格式不对，\n",
    "mm = df.query(\"DDX > 0.5 & LB < 1.5 & TCL5 > 10.0 \")\n",
    "print(mm)\n"
   ]
  },
  {
   "cell_type": "code",
   "execution_count": 4,
   "metadata": {},
   "outputs": [
    {
     "name": "stdout",
     "output_type": "stream",
     "text": [
      "300494\n",
      "300043\n",
      "300211\n",
      "002826\n",
      "000530\n",
      "603228\n",
      "600094\n"
     ]
    }
   ],
   "source": [
    "import pandas as pd\n",
    "import tushare as ts\n",
    "import datetime\n",
    "df2 = pd.read_excel(\"/home/wangd/DDXqb.xlsx\")#先存入再读出来是因为数值格式不对，\n",
    "mm = df2.query(\"DDX>0.5 & TCL10>1 & TCL5>1 & LB<0.4\")#通通通\n",
    "#print(mm)\n",
    "code = mm[\"code\"]\n",
    "#print(code)\n",
    "today = datetime.date.today()\n",
    "oneday = datetime.timedelta(days=60)\n",
    "beging = str(today-oneday)\n",
    "\n",
    "for i in code:  #逐个下载历史行情，从技术形态层面分析\n",
    "    try:\n",
    "        i = int(i)\n",
    "        df = ts.get_hist_data('%06d' % i,start='%s' % beging)   #%06d,表示数字是6位数，如不够就自动加0到前面\n",
    "   \n",
    "    \n",
    "#        if df.iat[0,2] > df.iat[0,7] and df.iat[0,2] < df[\"close\"].mean() :#| df.iat[0,2] < df.iat[0,8] and df.iat[0,2] > df[\"close\"].mean():#当日收盘价小于历史20日均价5%\n",
    "\n",
    "    \n",
    "#            print(\"%06d\" % i)\n",
    "           \n",
    "        if df.iat[0,2] < df[\"close\"].mean()*1.05:\n",
    "           \n",
    "            print(\"%06d\" % i)\n",
    "            \n",
    "        else:\n",
    "            pass\n",
    "       \n",
    "    except:\n",
    "        pass\n",
    "    "
   ]
  },
  {
   "cell_type": "code",
   "execution_count": null,
   "metadata": {},
   "outputs": [],
   "source": [
    "import pandas as pd\n",
    "import tushare as ts\n",
    "df = pd.read_excel(\"/home/wangd/DDXqb.xlsx\")#查量\n",
    "df = df.sort_values(by=\"LB\",ascending=True)"
   ]
  }
 ],
 "metadata": {
  "kernelspec": {
   "display_name": "Python 3",
   "language": "python",
   "name": "python3"
  },
  "language_info": {
   "codemirror_mode": {
    "name": "ipython",
    "version": 3
   },
   "file_extension": ".py",
   "mimetype": "text/x-python",
   "name": "python",
   "nbconvert_exporter": "python",
   "pygments_lexer": "ipython3",
   "version": "3.6.5"
  }
 },
 "nbformat": 4,
 "nbformat_minor": 2
}
