{
 "cells": [
  {
   "cell_type": "code",
   "execution_count": null,
   "metadata": {},
   "outputs": [
    {
     "name": "stdout",
     "output_type": "stream",
     "text": [
      "[Getting data:]############################################################[Getting data:]############################################################Empty DataFrame\n",
      "Columns: [zj]\n",
      "Index: []\n",
      "[Getting data:]############################################################Empty DataFrame\n",
      "Columns: [zj]\n",
      "Index: []\n",
      "[Getting data:]############################################################          zj\n",
      "code        \n",
      "603331  True\n",
      "[Getting data:]############################################################          zj\n",
      "code        \n",
      "603331  True\n",
      "[Getting data:]############################################################          zj\n",
      "code        \n",
      "603331  True\n",
      "[Getting data:]############################################################          zj\n",
      "code        \n",
      "603036  True\n",
      "[Getting data:]############################################################          zj\n",
      "code        \n",
      "603331  True\n",
      "[Getting data:]#"
     ]
    }
   ],
   "source": [
    "import tushare as ts\n",
    "import pandas as pd\n",
    "import time\n",
    "df = ts.get_today_all()\n",
    "#df = df.head(500)\n",
    "df.drop([\"name\",\"changepercent\",\"trade\",\"open\",\"high\",\"low\",\"settlement\",\"volume\",\"turnoverratio\",\"per\",\"pb\",\"mktcap\", \"nmc\"],axis=1,inplace=True) \n",
    "df.to_excel(\"/home/wangd/sisijk.xlsx\")\n",
    "time.sleep(200)\n",
    "\n",
    "cs = 0\n",
    "while cs<20:\n",
    "    df2 = ts.get_today_all() #获取实时行情\n",
    "#    df2 = df2.head(500) #根据情况设定股票数量，可以是全部\n",
    "    df2.drop([\"name\",\"changepercent\",\"trade\",\"open\",\"high\",\"low\",\"settlement\",\"volume\",\"turnoverratio\",\"per\",\"pb\",\"mktcap\", \"nmc\"],axis=1,inplace=True)  #只选择代码和成交量\n",
    "    df = pd.merge(df,df2,on=\"code\",how=\"inner\") #将每次更新的行情数据添加进去\n",
    "    cs=cs+1 \n",
    "    df.to_excel(\"/home/wangd/sisijk.xlsx\")\n",
    "    \n",
    "    \n",
    "    df3 = df.T#翻转\n",
    "    df3.columns = df3.iloc[0,:]  #行名转列名\n",
    "    df3 = df3.drop(df3.index[0])  #去除多余的一行\n",
    "    df3 = df3.tail(1) > df3.mean()*1.5  #最后一行的值出现异常后提取出来\n",
    "    df3 = df3.T #再次转回，便于提取代码\n",
    "    df3.columns = [\"zj\"] #重命名列名，便于使用loc函数\n",
    "    df3 = df3.loc[df3['zj'] == True] #使用loc函数提取true值\n",
    "    df4 = df3.drop_duplicates()\n",
    "    print(df4)\n",
    "    df4.to_excel(\"/home/wangd/放量股票.xlsx\")\n",
    "    time.sleep(300) #\n",
    "\n",
    "\n",
    "    \n",
    "  "
   ]
  },
  {
   "cell_type": "code",
   "execution_count": null,
   "metadata": {
    "scrolled": true
   },
   "outputs": [],
   "source": []
  },
  {
   "cell_type": "code",
   "execution_count": null,
   "metadata": {},
   "outputs": [],
   "source": []
  },
  {
   "cell_type": "code",
   "execution_count": null,
   "metadata": {},
   "outputs": [],
   "source": []
  }
 ],
 "metadata": {
  "kernelspec": {
   "display_name": "Python 3",
   "language": "python",
   "name": "python3"
  },
  "language_info": {
   "codemirror_mode": {
    "name": "ipython",
    "version": 3
   },
   "file_extension": ".py",
   "mimetype": "text/x-python",
   "name": "python",
   "nbconvert_exporter": "python",
   "pygments_lexer": "ipython3",
   "version": "3.6.5"
  }
 },
 "nbformat": 4,
 "nbformat_minor": 2
}
