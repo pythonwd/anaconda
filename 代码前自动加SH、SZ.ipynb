{
 "cells": [
  {
   "cell_type": "code",
   "execution_count": 27,
   "metadata": {},
   "outputs": [
    {
     "name": "stdout",
     "output_type": "stream",
     "text": [
      "sz.000111\n",
      "sz.300018\n",
      "sh.600177\n"
     ]
    }
   ],
   "source": [
    "str = [\"000111\",\"300018\",\"600177\"]\n",
    "for i in str:\n",
    "    if i[0]==\"3\":\n",
    "        i=\"sz.\"+i\n",
    "    elif i[0]==\"0\":\n",
    "        i=\"sz.\"+i\n",
    "    else:\n",
    "        i=\"sh.\"+i\n",
    "    print(\"{}\".format(i))"
   ]
  },
  {
   "cell_type": "code",
   "execution_count": null,
   "metadata": {},
   "outputs": [],
   "source": []
  }
 ],
 "metadata": {
  "kernelspec": {
   "display_name": "Python 3",
   "language": "python",
   "name": "python3"
  },
  "language_info": {
   "codemirror_mode": {
    "name": "ipython",
    "version": 3
   },
   "file_extension": ".py",
   "mimetype": "text/x-python",
   "name": "python",
   "nbconvert_exporter": "python",
   "pygments_lexer": "ipython3",
   "version": "3.6.5"
  }
 },
 "nbformat": 4,
 "nbformat_minor": 2
}
